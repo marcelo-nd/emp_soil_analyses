{
 "cells": [
  {
   "cell_type": "markdown",
   "id": "16100f64",
   "metadata": {},
   "source": [
    "# EMP soil microbial diversity analyses"
   ]
  },
  {
   "cell_type": "markdown",
   "id": "371aaf95",
   "metadata": {},
   "source": []
  },
  {
   "cell_type": "code",
   "execution_count": 12,
   "id": "50d5ba6e",
   "metadata": {},
   "outputs": [],
   "source": [
    "# Load and install packages\n",
    "library(dplyr, quietly = TRUE)\n",
    "library(readr)\n",
    "library(tidyr)\n",
    "library(ggplot2)\n",
    "\n",
    "if (!require(\"BiocManager\", quietly = TRUE))\n",
    "  install.packages(\"BiocManager\")\n",
    "\n",
    "if (!require(\"phyloseq\", quietly = TRUE))\n",
    "  BiocManager::install(\"phyloseq\", update = FALSE)\n",
    "\n",
    "if (!require(\"ComplexHeatmap\", quietly = TRUE))\n",
    "  BiocManager::install(\"ComplexHeatmap\", update = FALSE)\n",
    "\n",
    "library(\"phyloseq\", quietly = TRUE)"
   ]
  },
  {
   "cell_type": "markdown",
   "id": "f6881f60",
   "metadata": {},
   "source": [
    "Source function files"
   ]
  },
  {
   "cell_type": "code",
   "execution_count": 4,
   "id": "e9c5dc04",
   "metadata": {},
   "outputs": [],
   "source": [
    "source(\"C:/Users/Marcelo/Documents/Github/microbiome-help/table_importers.R\")\n",
    "source(\"C:/Users/Marcelo/Documents/Github/microbiome-help/graphs.R\")"
   ]
  },
  {
   "cell_type": "markdown",
   "id": "2d29ca7b",
   "metadata": {},
   "source": [
    "Set the working directory"
   ]
  },
  {
   "cell_type": "code",
   "execution_count": 15,
   "id": "e312fe86",
   "metadata": {},
   "outputs": [],
   "source": [
    "setwd(\"C:/Users/Marcelo/OneDrive - UT Cloud/Postdoc Tü/Sci/EMP_soil_strain_analysis\")"
   ]
  },
  {
   "cell_type": "markdown",
   "id": "bc52090d",
   "metadata": {},
   "source": [
    "Processing data files from the EMP.\n",
    "Load metadata files.\n",
    "Get list of metadata files"
   ]
  },
  {
   "cell_type": "code",
   "execution_count": 17,
   "id": "09377c1c",
   "metadata": {},
   "outputs": [
    {
     "data": {
      "text/html": [
       "<style>\n",
       ".list-inline {list-style: none; margin:0; padding: 0}\n",
       ".list-inline>li {display: inline-block}\n",
       ".list-inline>li:not(:last-child)::after {content: \"\\00b7\"; padding: 0 .5ex}\n",
       "</style>\n",
       "<ol class=list-inline><li>'sample_information_from_prep_8700.tsv'</li><li>'sample_information_from_prep_8755.tsv'</li><li>'sample_information_from_prep_8756.tsv'</li><li>'sample_information_from_prep_9957.tsv'</li><li>'sample_information_from_prep_9958.tsv'</li><li>'sample_information_from_prep_9959.tsv'</li><li>'sample_information_from_prep_9960.tsv'</li></ol>\n"
      ],
      "text/latex": [
       "\\begin{enumerate*}\n",
       "\\item 'sample\\_information\\_from\\_prep\\_8700.tsv'\n",
       "\\item 'sample\\_information\\_from\\_prep\\_8755.tsv'\n",
       "\\item 'sample\\_information\\_from\\_prep\\_8756.tsv'\n",
       "\\item 'sample\\_information\\_from\\_prep\\_9957.tsv'\n",
       "\\item 'sample\\_information\\_from\\_prep\\_9958.tsv'\n",
       "\\item 'sample\\_information\\_from\\_prep\\_9959.tsv'\n",
       "\\item 'sample\\_information\\_from\\_prep\\_9960.tsv'\n",
       "\\end{enumerate*}\n"
      ],
      "text/markdown": [
       "1. 'sample_information_from_prep_8700.tsv'\n",
       "2. 'sample_information_from_prep_8755.tsv'\n",
       "3. 'sample_information_from_prep_8756.tsv'\n",
       "4. 'sample_information_from_prep_9957.tsv'\n",
       "5. 'sample_information_from_prep_9958.tsv'\n",
       "6. 'sample_information_from_prep_9959.tsv'\n",
       "7. 'sample_information_from_prep_9960.tsv'\n",
       "\n",
       "\n"
      ],
      "text/plain": [
       "[1] \"sample_information_from_prep_8700.tsv\"\n",
       "[2] \"sample_information_from_prep_8755.tsv\"\n",
       "[3] \"sample_information_from_prep_8756.tsv\"\n",
       "[4] \"sample_information_from_prep_9957.tsv\"\n",
       "[5] \"sample_information_from_prep_9958.tsv\"\n",
       "[6] \"sample_information_from_prep_9959.tsv\"\n",
       "[7] \"sample_information_from_prep_9960.tsv\""
      ]
     },
     "metadata": {},
     "output_type": "display_data"
    }
   ],
   "source": [
    "metadata_files <- list.files(\"./metadata\")\n",
    "\n",
    "metadata_files"
   ]
  },
  {
   "cell_type": "markdown",
   "id": "80e0a0ef",
   "metadata": {},
   "source": [
    "Join all metadata files into a single DF\n",
    "iterate over all files"
   ]
  },
  {
   "cell_type": "code",
   "execution_count": 5,
   "id": "76c36fbc",
   "metadata": {},
   "outputs": [
    {
     "data": {
      "text/html": [
       "<style>\n",
       ".list-inline {list-style: none; margin:0; padding: 0}\n",
       ".list-inline>li {display: inline-block}\n",
       ".list-inline>li:not(:last-child)::after {content: \"\\00b7\"; padding: 0 .5ex}\n",
       "</style>\n",
       "<ol class=list-inline><li>'sample_information_from_prep_8700.tsv'</li><li>'sample_information_from_prep_8755.tsv'</li><li>'sample_information_from_prep_8756.tsv'</li><li>'sample_information_from_prep_9957.tsv'</li><li>'sample_information_from_prep_9958.tsv'</li><li>'sample_information_from_prep_9959.tsv'</li><li>'sample_information_from_prep_9960.tsv'</li></ol>\n"
      ],
      "text/latex": [
       "\\begin{enumerate*}\n",
       "\\item 'sample\\_information\\_from\\_prep\\_8700.tsv'\n",
       "\\item 'sample\\_information\\_from\\_prep\\_8755.tsv'\n",
       "\\item 'sample\\_information\\_from\\_prep\\_8756.tsv'\n",
       "\\item 'sample\\_information\\_from\\_prep\\_9957.tsv'\n",
       "\\item 'sample\\_information\\_from\\_prep\\_9958.tsv'\n",
       "\\item 'sample\\_information\\_from\\_prep\\_9959.tsv'\n",
       "\\item 'sample\\_information\\_from\\_prep\\_9960.tsv'\n",
       "\\end{enumerate*}\n"
      ],
      "text/markdown": [
       "1. 'sample_information_from_prep_8700.tsv'\n",
       "2. 'sample_information_from_prep_8755.tsv'\n",
       "3. 'sample_information_from_prep_8756.tsv'\n",
       "4. 'sample_information_from_prep_9957.tsv'\n",
       "5. 'sample_information_from_prep_9958.tsv'\n",
       "6. 'sample_information_from_prep_9959.tsv'\n",
       "7. 'sample_information_from_prep_9960.tsv'\n",
       "\n",
       "\n"
      ],
      "text/plain": [
       "[1] \"sample_information_from_prep_8700.tsv\"\n",
       "[2] \"sample_information_from_prep_8755.tsv\"\n",
       "[3] \"sample_information_from_prep_8756.tsv\"\n",
       "[4] \"sample_information_from_prep_9957.tsv\"\n",
       "[5] \"sample_information_from_prep_9958.tsv\"\n",
       "[6] \"sample_information_from_prep_9959.tsv\"\n",
       "[7] \"sample_information_from_prep_9960.tsv\""
      ]
     },
     "metadata": {},
     "output_type": "display_data"
    }
   ],
   "source": [
    "\n",
    "for(file_number in seq(from = 1, to = length(metadata_files), by = 1)){\n",
    "  # If it is the first file, use it create the result DF.\n",
    "  if(file_number == 1){\n",
    "    sample_metadata <- readr::read_tsv(paste(\"./metadata\", metadata_files[file_number],\n",
    "                                      sep = \"/\"), name_repair = \"unique\", col_types = cols())\n",
    "  }\n",
    "  # rbind the rest of files\n",
    "  else{\n",
    "    current_table <- readr::read_tsv(paste(\"./metadata\", metadata_files[file_number],\n",
    "                                           sep = \"/\"), name_repair = \"unique\", col_types = cols())\n",
    "    if (identical(colnames(sample_metadata), colnames(current_table))) {\n",
    "      sample_metadata <- rbind(sample_metadata, current_table)\n",
    "    }\n",
    "  }\n",
    "}"
   ]
  },
  {
   "cell_type": "code",
   "execution_count": 7,
   "id": "2ca6b4b7",
   "metadata": {},
   "outputs": [
    {
     "data": {
      "text/html": [
       "<table class=\"dataframe\">\n",
       "<caption>A tibble: 6 × 351</caption>\n",
       "<thead>\n",
       "\t<tr><th scope=col>sample_name</th><th scope=col>ph</th><th scope=col>leg</th><th scope=col>sex</th><th scope=col>core</th><th scope=col>diet</th><th scope=col>hole</th><th scope=col>mbsf</th><th scope=col>tier</th><th scope=col>trap</th><th scope=col>⋯</th><th scope=col>alpha_16s_deblur_nosingletons_rar5k_richness_nosepp</th><th scope=col>alpha_shotgun_woltka_norm_nosingletons_min6550_shannon</th><th scope=col>alpha_shotgun_woltka_norm_nosingletons_rar6550_shannon</th><th scope=col>alpha_shotgun_woltka_norm_metacyc_go_nosingletons_rar1k</th><th scope=col>alpha_shotgun_woltka_norm_metacyc_go_nosingletons_rar5k</th><th scope=col>alpha_shotgun_woltka_norm_nosingletons_min6550_faithspd</th><th scope=col>alpha_shotgun_woltka_norm_nosingletons_min6550_richness</th><th scope=col>alpha_shotgun_woltka_norm_nosingletons_rar6550_faithspd</th><th scope=col>alpha_shotgun_woltka_norm_nosingletons_rar6550_richness</th><th scope=col>qiita_study_id</th></tr>\n",
       "\t<tr><th scope=col>&lt;chr&gt;</th><th scope=col>&lt;chr&gt;</th><th scope=col>&lt;chr&gt;</th><th scope=col>&lt;chr&gt;</th><th scope=col>&lt;chr&gt;</th><th scope=col>&lt;chr&gt;</th><th scope=col>&lt;chr&gt;</th><th scope=col>&lt;chr&gt;</th><th scope=col>&lt;chr&gt;</th><th scope=col>&lt;chr&gt;</th><th scope=col>⋯</th><th scope=col>&lt;chr&gt;</th><th scope=col>&lt;chr&gt;</th><th scope=col>&lt;chr&gt;</th><th scope=col>&lt;chr&gt;</th><th scope=col>&lt;chr&gt;</th><th scope=col>&lt;chr&gt;</th><th scope=col>&lt;chr&gt;</th><th scope=col>&lt;chr&gt;</th><th scope=col>&lt;chr&gt;</th><th scope=col>&lt;dbl&gt;</th></tr>\n",
       "</thead>\n",
       "<tbody>\n",
       "\t<tr><td>13114.minich.76.s003</td><td>not applicable</td><td>not applicable</td><td>not applicable</td><td>not applicable</td><td>not applicable</td><td>not applicable</td><td>not applicable</td><td>not applicable</td><td>not applicable</td><td>⋯</td><td>209</td><td>5.704138528769757</td><td>5.538070270635466</td><td>350</td><td>937           </td><td>330.6551499935822 </td><td>2891</td><td>72.7562911166583  </td><td>441</td><td>13114</td></tr>\n",
       "\t<tr><td>13114.minich.76.s004</td><td>not applicable</td><td>not applicable</td><td>not applicable</td><td>not applicable</td><td>not applicable</td><td>not applicable</td><td>not applicable</td><td>not applicable</td><td>not applicable</td><td>⋯</td><td>202</td><td>5.11177625721958 </td><td>5.011418547806756</td><td>466</td><td>1365          </td><td>220.36749664122885</td><td>1775</td><td>53.35974199363682 </td><td>282</td><td>13114</td></tr>\n",
       "\t<tr><td>13114.minich.76.s005</td><td>not applicable</td><td>not applicable</td><td>not applicable</td><td>not applicable</td><td>not applicable</td><td>not applicable</td><td>not applicable</td><td>not applicable</td><td>not applicable</td><td>⋯</td><td>357</td><td>5.704639931486589</td><td>5.560582392060665</td><td>358</td><td>870           </td><td>351.96014885645263</td><td>2861</td><td>110.51335001963162</td><td>622</td><td>13114</td></tr>\n",
       "\t<tr><td>13114.pinto.63.s021 </td><td>not applicable</td><td>not applicable</td><td>not applicable</td><td>not applicable</td><td>not applicable</td><td>not applicable</td><td>not applicable</td><td>1             </td><td>not applicable</td><td>⋯</td><td>255</td><td>4.706883731677523</td><td>4.720560467229144</td><td>409</td><td>1006          </td><td>69.8901006733015  </td><td>432 </td><td>63.53315252071661 </td><td>364</td><td>13114</td></tr>\n",
       "\t<tr><td>13114.pinto.63.s024 </td><td>not applicable</td><td>not applicable</td><td>not applicable</td><td>not applicable</td><td>not applicable</td><td>not applicable</td><td>not applicable</td><td>1             </td><td>not applicable</td><td>⋯</td><td>482</td><td>6.518698905376539</td><td>6.450608962868249</td><td>422</td><td>1003          </td><td>118.85862525138282</td><td>996 </td><td>77.27159140327535 </td><td>543</td><td>13114</td></tr>\n",
       "\t<tr><td>13114.pinto.63.s028 </td><td>not applicable</td><td>not applicable</td><td>not applicable</td><td>not applicable</td><td>not applicable</td><td>not applicable</td><td>not applicable</td><td>2             </td><td>not applicable</td><td>⋯</td><td>64 </td><td>4.369344518894108</td><td>4.348265871951721</td><td>242</td><td>not applicable</td><td>44.04514110662194 </td><td>193 </td><td>39.73490242656453 </td><td>145</td><td>13114</td></tr>\n",
       "</tbody>\n",
       "</table>\n"
      ],
      "text/latex": [
       "A tibble: 6 × 351\n",
       "\\begin{tabular}{lllllllllllllllllllll}\n",
       " sample\\_name & ph & leg & sex & core & diet & hole & mbsf & tier & trap & ⋯ & alpha\\_16s\\_deblur\\_nosingletons\\_rar5k\\_richness\\_nosepp & alpha\\_shotgun\\_woltka\\_norm\\_nosingletons\\_min6550\\_shannon & alpha\\_shotgun\\_woltka\\_norm\\_nosingletons\\_rar6550\\_shannon & alpha\\_shotgun\\_woltka\\_norm\\_metacyc\\_go\\_nosingletons\\_rar1k & alpha\\_shotgun\\_woltka\\_norm\\_metacyc\\_go\\_nosingletons\\_rar5k & alpha\\_shotgun\\_woltka\\_norm\\_nosingletons\\_min6550\\_faithspd & alpha\\_shotgun\\_woltka\\_norm\\_nosingletons\\_min6550\\_richness & alpha\\_shotgun\\_woltka\\_norm\\_nosingletons\\_rar6550\\_faithspd & alpha\\_shotgun\\_woltka\\_norm\\_nosingletons\\_rar6550\\_richness & qiita\\_study\\_id\\\\\n",
       " <chr> & <chr> & <chr> & <chr> & <chr> & <chr> & <chr> & <chr> & <chr> & <chr> & ⋯ & <chr> & <chr> & <chr> & <chr> & <chr> & <chr> & <chr> & <chr> & <chr> & <dbl>\\\\\n",
       "\\hline\n",
       "\t 13114.minich.76.s003 & not applicable & not applicable & not applicable & not applicable & not applicable & not applicable & not applicable & not applicable & not applicable & ⋯ & 209 & 5.704138528769757 & 5.538070270635466 & 350 & 937            & 330.6551499935822  & 2891 & 72.7562911166583   & 441 & 13114\\\\\n",
       "\t 13114.minich.76.s004 & not applicable & not applicable & not applicable & not applicable & not applicable & not applicable & not applicable & not applicable & not applicable & ⋯ & 202 & 5.11177625721958  & 5.011418547806756 & 466 & 1365           & 220.36749664122885 & 1775 & 53.35974199363682  & 282 & 13114\\\\\n",
       "\t 13114.minich.76.s005 & not applicable & not applicable & not applicable & not applicable & not applicable & not applicable & not applicable & not applicable & not applicable & ⋯ & 357 & 5.704639931486589 & 5.560582392060665 & 358 & 870            & 351.96014885645263 & 2861 & 110.51335001963162 & 622 & 13114\\\\\n",
       "\t 13114.pinto.63.s021  & not applicable & not applicable & not applicable & not applicable & not applicable & not applicable & not applicable & 1              & not applicable & ⋯ & 255 & 4.706883731677523 & 4.720560467229144 & 409 & 1006           & 69.8901006733015   & 432  & 63.53315252071661  & 364 & 13114\\\\\n",
       "\t 13114.pinto.63.s024  & not applicable & not applicable & not applicable & not applicable & not applicable & not applicable & not applicable & 1              & not applicable & ⋯ & 482 & 6.518698905376539 & 6.450608962868249 & 422 & 1003           & 118.85862525138282 & 996  & 77.27159140327535  & 543 & 13114\\\\\n",
       "\t 13114.pinto.63.s028  & not applicable & not applicable & not applicable & not applicable & not applicable & not applicable & not applicable & 2              & not applicable & ⋯ & 64  & 4.369344518894108 & 4.348265871951721 & 242 & not applicable & 44.04514110662194  & 193  & 39.73490242656453  & 145 & 13114\\\\\n",
       "\\end{tabular}\n"
      ],
      "text/markdown": [
       "\n",
       "A tibble: 6 × 351\n",
       "\n",
       "| sample_name &lt;chr&gt; | ph &lt;chr&gt; | leg &lt;chr&gt; | sex &lt;chr&gt; | core &lt;chr&gt; | diet &lt;chr&gt; | hole &lt;chr&gt; | mbsf &lt;chr&gt; | tier &lt;chr&gt; | trap &lt;chr&gt; | ⋯ ⋯ | alpha_16s_deblur_nosingletons_rar5k_richness_nosepp &lt;chr&gt; | alpha_shotgun_woltka_norm_nosingletons_min6550_shannon &lt;chr&gt; | alpha_shotgun_woltka_norm_nosingletons_rar6550_shannon &lt;chr&gt; | alpha_shotgun_woltka_norm_metacyc_go_nosingletons_rar1k &lt;chr&gt; | alpha_shotgun_woltka_norm_metacyc_go_nosingletons_rar5k &lt;chr&gt; | alpha_shotgun_woltka_norm_nosingletons_min6550_faithspd &lt;chr&gt; | alpha_shotgun_woltka_norm_nosingletons_min6550_richness &lt;chr&gt; | alpha_shotgun_woltka_norm_nosingletons_rar6550_faithspd &lt;chr&gt; | alpha_shotgun_woltka_norm_nosingletons_rar6550_richness &lt;chr&gt; | qiita_study_id &lt;dbl&gt; |\n",
       "|---|---|---|---|---|---|---|---|---|---|---|---|---|---|---|---|---|---|---|---|---|\n",
       "| 13114.minich.76.s003 | not applicable | not applicable | not applicable | not applicable | not applicable | not applicable | not applicable | not applicable | not applicable | ⋯ | 209 | 5.704138528769757 | 5.538070270635466 | 350 | 937            | 330.6551499935822  | 2891 | 72.7562911166583   | 441 | 13114 |\n",
       "| 13114.minich.76.s004 | not applicable | not applicable | not applicable | not applicable | not applicable | not applicable | not applicable | not applicable | not applicable | ⋯ | 202 | 5.11177625721958  | 5.011418547806756 | 466 | 1365           | 220.36749664122885 | 1775 | 53.35974199363682  | 282 | 13114 |\n",
       "| 13114.minich.76.s005 | not applicable | not applicable | not applicable | not applicable | not applicable | not applicable | not applicable | not applicable | not applicable | ⋯ | 357 | 5.704639931486589 | 5.560582392060665 | 358 | 870            | 351.96014885645263 | 2861 | 110.51335001963162 | 622 | 13114 |\n",
       "| 13114.pinto.63.s021  | not applicable | not applicable | not applicable | not applicable | not applicable | not applicable | not applicable | 1              | not applicable | ⋯ | 255 | 4.706883731677523 | 4.720560467229144 | 409 | 1006           | 69.8901006733015   | 432  | 63.53315252071661  | 364 | 13114 |\n",
       "| 13114.pinto.63.s024  | not applicable | not applicable | not applicable | not applicable | not applicable | not applicable | not applicable | 1              | not applicable | ⋯ | 482 | 6.518698905376539 | 6.450608962868249 | 422 | 1003           | 118.85862525138282 | 996  | 77.27159140327535  | 543 | 13114 |\n",
       "| 13114.pinto.63.s028  | not applicable | not applicable | not applicable | not applicable | not applicable | not applicable | not applicable | 2              | not applicable | ⋯ | 64  | 4.369344518894108 | 4.348265871951721 | 242 | not applicable | 44.04514110662194  | 193  | 39.73490242656453  | 145 | 13114 |\n",
       "\n"
      ],
      "text/plain": [
       "  sample_name          ph             leg            sex           \n",
       "1 13114.minich.76.s003 not applicable not applicable not applicable\n",
       "2 13114.minich.76.s004 not applicable not applicable not applicable\n",
       "3 13114.minich.76.s005 not applicable not applicable not applicable\n",
       "4 13114.pinto.63.s021  not applicable not applicable not applicable\n",
       "5 13114.pinto.63.s024  not applicable not applicable not applicable\n",
       "6 13114.pinto.63.s028  not applicable not applicable not applicable\n",
       "  core           diet           hole           mbsf           tier          \n",
       "1 not applicable not applicable not applicable not applicable not applicable\n",
       "2 not applicable not applicable not applicable not applicable not applicable\n",
       "3 not applicable not applicable not applicable not applicable not applicable\n",
       "4 not applicable not applicable not applicable not applicable 1             \n",
       "5 not applicable not applicable not applicable not applicable 1             \n",
       "6 not applicable not applicable not applicable not applicable 2             \n",
       "  trap           ⋯ alpha_16s_deblur_nosingletons_rar5k_richness_nosepp\n",
       "1 not applicable ⋯ 209                                                \n",
       "2 not applicable ⋯ 202                                                \n",
       "3 not applicable ⋯ 357                                                \n",
       "4 not applicable ⋯ 255                                                \n",
       "5 not applicable ⋯ 482                                                \n",
       "6 not applicable ⋯ 64                                                 \n",
       "  alpha_shotgun_woltka_norm_nosingletons_min6550_shannon\n",
       "1 5.704138528769757                                     \n",
       "2 5.11177625721958                                      \n",
       "3 5.704639931486589                                     \n",
       "4 4.706883731677523                                     \n",
       "5 6.518698905376539                                     \n",
       "6 4.369344518894108                                     \n",
       "  alpha_shotgun_woltka_norm_nosingletons_rar6550_shannon\n",
       "1 5.538070270635466                                     \n",
       "2 5.011418547806756                                     \n",
       "3 5.560582392060665                                     \n",
       "4 4.720560467229144                                     \n",
       "5 6.450608962868249                                     \n",
       "6 4.348265871951721                                     \n",
       "  alpha_shotgun_woltka_norm_metacyc_go_nosingletons_rar1k\n",
       "1 350                                                    \n",
       "2 466                                                    \n",
       "3 358                                                    \n",
       "4 409                                                    \n",
       "5 422                                                    \n",
       "6 242                                                    \n",
       "  alpha_shotgun_woltka_norm_metacyc_go_nosingletons_rar5k\n",
       "1 937                                                    \n",
       "2 1365                                                   \n",
       "3 870                                                    \n",
       "4 1006                                                   \n",
       "5 1003                                                   \n",
       "6 not applicable                                         \n",
       "  alpha_shotgun_woltka_norm_nosingletons_min6550_faithspd\n",
       "1 330.6551499935822                                      \n",
       "2 220.36749664122885                                     \n",
       "3 351.96014885645263                                     \n",
       "4 69.8901006733015                                       \n",
       "5 118.85862525138282                                     \n",
       "6 44.04514110662194                                      \n",
       "  alpha_shotgun_woltka_norm_nosingletons_min6550_richness\n",
       "1 2891                                                   \n",
       "2 1775                                                   \n",
       "3 2861                                                   \n",
       "4 432                                                    \n",
       "5 996                                                    \n",
       "6 193                                                    \n",
       "  alpha_shotgun_woltka_norm_nosingletons_rar6550_faithspd\n",
       "1 72.7562911166583                                       \n",
       "2 53.35974199363682                                      \n",
       "3 110.51335001963162                                     \n",
       "4 63.53315252071661                                      \n",
       "5 77.27159140327535                                      \n",
       "6 39.73490242656453                                      \n",
       "  alpha_shotgun_woltka_norm_nosingletons_rar6550_richness qiita_study_id\n",
       "1 441                                                     13114         \n",
       "2 282                                                     13114         \n",
       "3 622                                                     13114         \n",
       "4 364                                                     13114         \n",
       "5 543                                                     13114         \n",
       "6 145                                                     13114         "
      ]
     },
     "metadata": {},
     "output_type": "display_data"
    },
    {
     "data": {
      "text/html": [
       "351"
      ],
      "text/latex": [
       "351"
      ],
      "text/markdown": [
       "351"
      ],
      "text/plain": [
       "[1] 351"
      ]
     },
     "metadata": {},
     "output_type": "display_data"
    },
    {
     "data": {
      "text/html": [
       "951"
      ],
      "text/latex": [
       "951"
      ],
      "text/markdown": [
       "951"
      ],
      "text/plain": [
       "[1] 951"
      ]
     },
     "metadata": {},
     "output_type": "display_data"
    }
   ],
   "source": [
    "head(sample_metadata)\n",
    "\n",
    "# Number of unique variables (columns)\n",
    "length(unique(sample_metadata))\n",
    "\n",
    "# Number of unique samples (rows)\n",
    "length(unique(sample_metadata$sample_name))"
   ]
  },
  {
   "cell_type": "code",
   "execution_count": null,
   "id": "fa55a162",
   "metadata": {},
   "outputs": [],
   "source": [
    "write.csv(sample_metadata, \"sample_metadata.csv\", row.names = FALSE, quote = FALSE)"
   ]
  },
  {
   "cell_type": "code",
   "execution_count": 8,
   "id": "dd33f1ab",
   "metadata": {},
   "outputs": [
    {
     "data": {
      "text/html": [
       "<table class=\"dataframe\">\n",
       "<caption>A tibble: 6 × 351</caption>\n",
       "<thead>\n",
       "\t<tr><th scope=col>sample_name</th><th scope=col>ph</th><th scope=col>leg</th><th scope=col>sex</th><th scope=col>core</th><th scope=col>diet</th><th scope=col>hole</th><th scope=col>mbsf</th><th scope=col>tier</th><th scope=col>trap</th><th scope=col>⋯</th><th scope=col>alpha_16s_deblur_nosingletons_rar5k_richness_nosepp</th><th scope=col>alpha_shotgun_woltka_norm_nosingletons_min6550_shannon</th><th scope=col>alpha_shotgun_woltka_norm_nosingletons_rar6550_shannon</th><th scope=col>alpha_shotgun_woltka_norm_metacyc_go_nosingletons_rar1k</th><th scope=col>alpha_shotgun_woltka_norm_metacyc_go_nosingletons_rar5k</th><th scope=col>alpha_shotgun_woltka_norm_nosingletons_min6550_faithspd</th><th scope=col>alpha_shotgun_woltka_norm_nosingletons_min6550_richness</th><th scope=col>alpha_shotgun_woltka_norm_nosingletons_rar6550_faithspd</th><th scope=col>alpha_shotgun_woltka_norm_nosingletons_rar6550_richness</th><th scope=col>qiita_study_id</th></tr>\n",
       "\t<tr><th scope=col>&lt;chr&gt;</th><th scope=col>&lt;chr&gt;</th><th scope=col>&lt;chr&gt;</th><th scope=col>&lt;chr&gt;</th><th scope=col>&lt;chr&gt;</th><th scope=col>&lt;chr&gt;</th><th scope=col>&lt;chr&gt;</th><th scope=col>&lt;chr&gt;</th><th scope=col>&lt;chr&gt;</th><th scope=col>&lt;chr&gt;</th><th scope=col>⋯</th><th scope=col>&lt;chr&gt;</th><th scope=col>&lt;chr&gt;</th><th scope=col>&lt;chr&gt;</th><th scope=col>&lt;chr&gt;</th><th scope=col>&lt;chr&gt;</th><th scope=col>&lt;chr&gt;</th><th scope=col>&lt;chr&gt;</th><th scope=col>&lt;chr&gt;</th><th scope=col>&lt;chr&gt;</th><th scope=col>&lt;dbl&gt;</th></tr>\n",
       "</thead>\n",
       "<tbody>\n",
       "\t<tr><td>13114.control.soil.grass.near.BRF               </td><td>not applicable</td><td>not applicable</td><td>not applicable</td><td>not applicable</td><td>not applicable</td><td>not applicable</td><td>not applicable</td><td>not applicable</td><td>not applicable</td><td>⋯</td><td>not applicable</td><td>not applicable   </td><td>not applicable   </td><td>not applicable</td><td>not applicable</td><td>not applicable    </td><td>not applicable</td><td>not applicable    </td><td>not applicable</td><td>13114</td></tr>\n",
       "\t<tr><td>13114.control.soil.under.pine.tree.by.Skaggs    </td><td>not applicable</td><td>not applicable</td><td>not applicable</td><td>not applicable</td><td>not applicable</td><td>not applicable</td><td>not applicable</td><td>not applicable</td><td>not applicable</td><td>⋯</td><td>740           </td><td>not applicable   </td><td>not applicable   </td><td>not applicable</td><td>not applicable</td><td>not applicable    </td><td>not applicable</td><td>not applicable    </td><td>not applicable</td><td>13114</td></tr>\n",
       "\t<tr><td>13114.control.soil.under.rock.near.century.plant</td><td>not applicable</td><td>not applicable</td><td>not applicable</td><td>not applicable</td><td>not applicable</td><td>not applicable</td><td>not applicable</td><td>not applicable</td><td>not applicable</td><td>⋯</td><td>not applicable</td><td>not applicable   </td><td>not applicable   </td><td>not applicable</td><td>not applicable</td><td>not applicable    </td><td>not applicable</td><td>not applicable    </td><td>not applicable</td><td>13114</td></tr>\n",
       "\t<tr><td>13114.myrold.59.s001                            </td><td>not applicable</td><td>not applicable</td><td>not applicable</td><td>not applicable</td><td>not applicable</td><td>not applicable</td><td>not applicable</td><td>1             </td><td>not applicable</td><td>⋯</td><td>not applicable</td><td>6.37975950873946 </td><td>6.232143834429108</td><td>311           </td><td>642           </td><td>161.93396034486068</td><td>1258          </td><td>93.04544740435495 </td><td>644           </td><td>13114</td></tr>\n",
       "\t<tr><td>13114.myrold.59.s002                            </td><td>not applicable</td><td>not applicable</td><td>not applicable</td><td>not applicable</td><td>not applicable</td><td>not applicable</td><td>not applicable</td><td>1             </td><td>not applicable</td><td>⋯</td><td>879           </td><td>5.532316878608343</td><td>5.413182379246673</td><td>287           </td><td>634           </td><td>215.79872333355183</td><td>1656          </td><td>80.81762028204207 </td><td>495           </td><td>13114</td></tr>\n",
       "\t<tr><td>13114.myrold.59.s003                            </td><td>not applicable</td><td>not applicable</td><td>not applicable</td><td>not applicable</td><td>not applicable</td><td>not applicable</td><td>not applicable</td><td>1             </td><td>not applicable</td><td>⋯</td><td>not applicable</td><td>7.064888777506893</td><td>6.933629805365329</td><td>301           </td><td>721           </td><td>153.764650445401  </td><td>1157          </td><td>103.30293130861946</td><td>672           </td><td>13114</td></tr>\n",
       "</tbody>\n",
       "</table>\n"
      ],
      "text/latex": [
       "A tibble: 6 × 351\n",
       "\\begin{tabular}{lllllllllllllllllllll}\n",
       " sample\\_name & ph & leg & sex & core & diet & hole & mbsf & tier & trap & ⋯ & alpha\\_16s\\_deblur\\_nosingletons\\_rar5k\\_richness\\_nosepp & alpha\\_shotgun\\_woltka\\_norm\\_nosingletons\\_min6550\\_shannon & alpha\\_shotgun\\_woltka\\_norm\\_nosingletons\\_rar6550\\_shannon & alpha\\_shotgun\\_woltka\\_norm\\_metacyc\\_go\\_nosingletons\\_rar1k & alpha\\_shotgun\\_woltka\\_norm\\_metacyc\\_go\\_nosingletons\\_rar5k & alpha\\_shotgun\\_woltka\\_norm\\_nosingletons\\_min6550\\_faithspd & alpha\\_shotgun\\_woltka\\_norm\\_nosingletons\\_min6550\\_richness & alpha\\_shotgun\\_woltka\\_norm\\_nosingletons\\_rar6550\\_faithspd & alpha\\_shotgun\\_woltka\\_norm\\_nosingletons\\_rar6550\\_richness & qiita\\_study\\_id\\\\\n",
       " <chr> & <chr> & <chr> & <chr> & <chr> & <chr> & <chr> & <chr> & <chr> & <chr> & ⋯ & <chr> & <chr> & <chr> & <chr> & <chr> & <chr> & <chr> & <chr> & <chr> & <dbl>\\\\\n",
       "\\hline\n",
       "\t 13114.control.soil.grass.near.BRF                & not applicable & not applicable & not applicable & not applicable & not applicable & not applicable & not applicable & not applicable & not applicable & ⋯ & not applicable & not applicable    & not applicable    & not applicable & not applicable & not applicable     & not applicable & not applicable     & not applicable & 13114\\\\\n",
       "\t 13114.control.soil.under.pine.tree.by.Skaggs     & not applicable & not applicable & not applicable & not applicable & not applicable & not applicable & not applicable & not applicable & not applicable & ⋯ & 740            & not applicable    & not applicable    & not applicable & not applicable & not applicable     & not applicable & not applicable     & not applicable & 13114\\\\\n",
       "\t 13114.control.soil.under.rock.near.century.plant & not applicable & not applicable & not applicable & not applicable & not applicable & not applicable & not applicable & not applicable & not applicable & ⋯ & not applicable & not applicable    & not applicable    & not applicable & not applicable & not applicable     & not applicable & not applicable     & not applicable & 13114\\\\\n",
       "\t 13114.myrold.59.s001                             & not applicable & not applicable & not applicable & not applicable & not applicable & not applicable & not applicable & 1              & not applicable & ⋯ & not applicable & 6.37975950873946  & 6.232143834429108 & 311            & 642            & 161.93396034486068 & 1258           & 93.04544740435495  & 644            & 13114\\\\\n",
       "\t 13114.myrold.59.s002                             & not applicable & not applicable & not applicable & not applicable & not applicable & not applicable & not applicable & 1              & not applicable & ⋯ & 879            & 5.532316878608343 & 5.413182379246673 & 287            & 634            & 215.79872333355183 & 1656           & 80.81762028204207  & 495            & 13114\\\\\n",
       "\t 13114.myrold.59.s003                             & not applicable & not applicable & not applicable & not applicable & not applicable & not applicable & not applicable & 1              & not applicable & ⋯ & not applicable & 7.064888777506893 & 6.933629805365329 & 301            & 721            & 153.764650445401   & 1157           & 103.30293130861946 & 672            & 13114\\\\\n",
       "\\end{tabular}\n"
      ],
      "text/markdown": [
       "\n",
       "A tibble: 6 × 351\n",
       "\n",
       "| sample_name &lt;chr&gt; | ph &lt;chr&gt; | leg &lt;chr&gt; | sex &lt;chr&gt; | core &lt;chr&gt; | diet &lt;chr&gt; | hole &lt;chr&gt; | mbsf &lt;chr&gt; | tier &lt;chr&gt; | trap &lt;chr&gt; | ⋯ ⋯ | alpha_16s_deblur_nosingletons_rar5k_richness_nosepp &lt;chr&gt; | alpha_shotgun_woltka_norm_nosingletons_min6550_shannon &lt;chr&gt; | alpha_shotgun_woltka_norm_nosingletons_rar6550_shannon &lt;chr&gt; | alpha_shotgun_woltka_norm_metacyc_go_nosingletons_rar1k &lt;chr&gt; | alpha_shotgun_woltka_norm_metacyc_go_nosingletons_rar5k &lt;chr&gt; | alpha_shotgun_woltka_norm_nosingletons_min6550_faithspd &lt;chr&gt; | alpha_shotgun_woltka_norm_nosingletons_min6550_richness &lt;chr&gt; | alpha_shotgun_woltka_norm_nosingletons_rar6550_faithspd &lt;chr&gt; | alpha_shotgun_woltka_norm_nosingletons_rar6550_richness &lt;chr&gt; | qiita_study_id &lt;dbl&gt; |\n",
       "|---|---|---|---|---|---|---|---|---|---|---|---|---|---|---|---|---|---|---|---|---|\n",
       "| 13114.control.soil.grass.near.BRF                | not applicable | not applicable | not applicable | not applicable | not applicable | not applicable | not applicable | not applicable | not applicable | ⋯ | not applicable | not applicable    | not applicable    | not applicable | not applicable | not applicable     | not applicable | not applicable     | not applicable | 13114 |\n",
       "| 13114.control.soil.under.pine.tree.by.Skaggs     | not applicable | not applicable | not applicable | not applicable | not applicable | not applicable | not applicable | not applicable | not applicable | ⋯ | 740            | not applicable    | not applicable    | not applicable | not applicable | not applicable     | not applicable | not applicable     | not applicable | 13114 |\n",
       "| 13114.control.soil.under.rock.near.century.plant | not applicable | not applicable | not applicable | not applicable | not applicable | not applicable | not applicable | not applicable | not applicable | ⋯ | not applicable | not applicable    | not applicable    | not applicable | not applicable | not applicable     | not applicable | not applicable     | not applicable | 13114 |\n",
       "| 13114.myrold.59.s001                             | not applicable | not applicable | not applicable | not applicable | not applicable | not applicable | not applicable | 1              | not applicable | ⋯ | not applicable | 6.37975950873946  | 6.232143834429108 | 311            | 642            | 161.93396034486068 | 1258           | 93.04544740435495  | 644            | 13114 |\n",
       "| 13114.myrold.59.s002                             | not applicable | not applicable | not applicable | not applicable | not applicable | not applicable | not applicable | 1              | not applicable | ⋯ | 879            | 5.532316878608343 | 5.413182379246673 | 287            | 634            | 215.79872333355183 | 1656           | 80.81762028204207  | 495            | 13114 |\n",
       "| 13114.myrold.59.s003                             | not applicable | not applicable | not applicable | not applicable | not applicable | not applicable | not applicable | 1              | not applicable | ⋯ | not applicable | 7.064888777506893 | 6.933629805365329 | 301            | 721            | 153.764650445401   | 1157           | 103.30293130861946 | 672            | 13114 |\n",
       "\n"
      ],
      "text/plain": [
       "  sample_name                                      ph            \n",
       "1 13114.control.soil.grass.near.BRF                not applicable\n",
       "2 13114.control.soil.under.pine.tree.by.Skaggs     not applicable\n",
       "3 13114.control.soil.under.rock.near.century.plant not applicable\n",
       "4 13114.myrold.59.s001                             not applicable\n",
       "5 13114.myrold.59.s002                             not applicable\n",
       "6 13114.myrold.59.s003                             not applicable\n",
       "  leg            sex            core           diet           hole          \n",
       "1 not applicable not applicable not applicable not applicable not applicable\n",
       "2 not applicable not applicable not applicable not applicable not applicable\n",
       "3 not applicable not applicable not applicable not applicable not applicable\n",
       "4 not applicable not applicable not applicable not applicable not applicable\n",
       "5 not applicable not applicable not applicable not applicable not applicable\n",
       "6 not applicable not applicable not applicable not applicable not applicable\n",
       "  mbsf           tier           trap           ⋯\n",
       "1 not applicable not applicable not applicable ⋯\n",
       "2 not applicable not applicable not applicable ⋯\n",
       "3 not applicable not applicable not applicable ⋯\n",
       "4 not applicable 1              not applicable ⋯\n",
       "5 not applicable 1              not applicable ⋯\n",
       "6 not applicable 1              not applicable ⋯\n",
       "  alpha_16s_deblur_nosingletons_rar5k_richness_nosepp\n",
       "1 not applicable                                     \n",
       "2 740                                                \n",
       "3 not applicable                                     \n",
       "4 not applicable                                     \n",
       "5 879                                                \n",
       "6 not applicable                                     \n",
       "  alpha_shotgun_woltka_norm_nosingletons_min6550_shannon\n",
       "1 not applicable                                        \n",
       "2 not applicable                                        \n",
       "3 not applicable                                        \n",
       "4 6.37975950873946                                      \n",
       "5 5.532316878608343                                     \n",
       "6 7.064888777506893                                     \n",
       "  alpha_shotgun_woltka_norm_nosingletons_rar6550_shannon\n",
       "1 not applicable                                        \n",
       "2 not applicable                                        \n",
       "3 not applicable                                        \n",
       "4 6.232143834429108                                     \n",
       "5 5.413182379246673                                     \n",
       "6 6.933629805365329                                     \n",
       "  alpha_shotgun_woltka_norm_metacyc_go_nosingletons_rar1k\n",
       "1 not applicable                                         \n",
       "2 not applicable                                         \n",
       "3 not applicable                                         \n",
       "4 311                                                    \n",
       "5 287                                                    \n",
       "6 301                                                    \n",
       "  alpha_shotgun_woltka_norm_metacyc_go_nosingletons_rar5k\n",
       "1 not applicable                                         \n",
       "2 not applicable                                         \n",
       "3 not applicable                                         \n",
       "4 642                                                    \n",
       "5 634                                                    \n",
       "6 721                                                    \n",
       "  alpha_shotgun_woltka_norm_nosingletons_min6550_faithspd\n",
       "1 not applicable                                         \n",
       "2 not applicable                                         \n",
       "3 not applicable                                         \n",
       "4 161.93396034486068                                     \n",
       "5 215.79872333355183                                     \n",
       "6 153.764650445401                                       \n",
       "  alpha_shotgun_woltka_norm_nosingletons_min6550_richness\n",
       "1 not applicable                                         \n",
       "2 not applicable                                         \n",
       "3 not applicable                                         \n",
       "4 1258                                                   \n",
       "5 1656                                                   \n",
       "6 1157                                                   \n",
       "  alpha_shotgun_woltka_norm_nosingletons_rar6550_faithspd\n",
       "1 not applicable                                         \n",
       "2 not applicable                                         \n",
       "3 not applicable                                         \n",
       "4 93.04544740435495                                      \n",
       "5 80.81762028204207                                      \n",
       "6 103.30293130861946                                     \n",
       "  alpha_shotgun_woltka_norm_nosingletons_rar6550_richness qiita_study_id\n",
       "1 not applicable                                          13114         \n",
       "2 not applicable                                          13114         \n",
       "3 not applicable                                          13114         \n",
       "4 644                                                     13114         \n",
       "5 495                                                     13114         \n",
       "6 672                                                     13114         "
      ]
     },
     "metadata": {},
     "output_type": "display_data"
    },
    {
     "data": {
      "text/html": [
       "351"
      ],
      "text/latex": [
       "351"
      ],
      "text/markdown": [
       "351"
      ],
      "text/plain": [
       "[1] 351"
      ]
     },
     "metadata": {},
     "output_type": "display_data"
    },
    {
     "data": {
      "text/html": [
       "42"
      ],
      "text/latex": [
       "42"
      ],
      "text/markdown": [
       "42"
      ],
      "text/plain": [
       "[1] 42"
      ]
     },
     "metadata": {},
     "output_type": "display_data"
    },
    {
     "data": {
      "text/html": [
       "<style>\n",
       ".list-inline {list-style: none; margin:0; padding: 0}\n",
       ".list-inline>li {display: inline-block}\n",
       ".list-inline>li:not(:last-child)::after {content: \"\\00b7\"; padding: 0 .5ex}\n",
       "</style>\n",
       "<ol class=list-inline><li>'X13114.control.soil.grass.near.BRF'</li><li>'X13114.control.soil.under.pine.tree.by.Skaggs'</li><li>'X13114.control.soil.under.rock.near.century.plant'</li><li>'X13114.myrold.59.s001'</li><li>'X13114.myrold.59.s002'</li><li>'X13114.myrold.59.s003'</li><li>'X13114.myrold.59.s004'</li><li>'X13114.myrold.59.s005'</li><li>'X13114.myrold.59.s007'</li><li>'X13114.myrold.59.s008'</li><li>'X13114.myrold.59.s009'</li><li>'X13114.myrold.59.s010'</li><li>'X13114.myrold.59.s011'</li><li>'X13114.myrold.59.s012'</li><li>'X13114.myrold.59.s013'</li><li>'X13114.myrold.59.s016'</li><li>'X13114.myrold.59.s018'</li><li>'X13114.myrold.59.s020'</li><li>'X13114.seedorf.71.s001'</li><li>'X13114.seedorf.71.s002'</li><li>'X13114.seedorf.71.s003'</li><li>'X13114.seedorf.71.s004'</li><li>'X13114.seedorf.71.s005'</li><li>'X13114.seedorf.71.s006'</li><li>'X13114.seedorf.71.s007'</li><li>'X13114.seedorf.71.s008'</li><li>'X13114.seedorf.71.s009'</li><li>'X13114.seedorf.71.s010'</li><li>'X13114.seedorf.71.s011'</li><li>'X13114.seedorf.71.s012'</li><li>'X13114.seedorf.71.s013'</li><li>'X13114.seedorf.71.s014'</li><li>'X13114.shade.23.s001'</li><li>'X13114.shade.23.s002'</li><li>'X13114.shade.23.s003'</li><li>'X13114.shade.23.s004'</li><li>'X13114.shade.23.s005'</li><li>'X13114.shade.23.s006'</li><li>'X13114.shade.23.s007'</li><li>'X13114.shade.23.s008'</li><li>'X13114.shade.23.s009'</li><li>'X13114.shade.23.s010'</li></ol>\n"
      ],
      "text/latex": [
       "\\begin{enumerate*}\n",
       "\\item 'X13114.control.soil.grass.near.BRF'\n",
       "\\item 'X13114.control.soil.under.pine.tree.by.Skaggs'\n",
       "\\item 'X13114.control.soil.under.rock.near.century.plant'\n",
       "\\item 'X13114.myrold.59.s001'\n",
       "\\item 'X13114.myrold.59.s002'\n",
       "\\item 'X13114.myrold.59.s003'\n",
       "\\item 'X13114.myrold.59.s004'\n",
       "\\item 'X13114.myrold.59.s005'\n",
       "\\item 'X13114.myrold.59.s007'\n",
       "\\item 'X13114.myrold.59.s008'\n",
       "\\item 'X13114.myrold.59.s009'\n",
       "\\item 'X13114.myrold.59.s010'\n",
       "\\item 'X13114.myrold.59.s011'\n",
       "\\item 'X13114.myrold.59.s012'\n",
       "\\item 'X13114.myrold.59.s013'\n",
       "\\item 'X13114.myrold.59.s016'\n",
       "\\item 'X13114.myrold.59.s018'\n",
       "\\item 'X13114.myrold.59.s020'\n",
       "\\item 'X13114.seedorf.71.s001'\n",
       "\\item 'X13114.seedorf.71.s002'\n",
       "\\item 'X13114.seedorf.71.s003'\n",
       "\\item 'X13114.seedorf.71.s004'\n",
       "\\item 'X13114.seedorf.71.s005'\n",
       "\\item 'X13114.seedorf.71.s006'\n",
       "\\item 'X13114.seedorf.71.s007'\n",
       "\\item 'X13114.seedorf.71.s008'\n",
       "\\item 'X13114.seedorf.71.s009'\n",
       "\\item 'X13114.seedorf.71.s010'\n",
       "\\item 'X13114.seedorf.71.s011'\n",
       "\\item 'X13114.seedorf.71.s012'\n",
       "\\item 'X13114.seedorf.71.s013'\n",
       "\\item 'X13114.seedorf.71.s014'\n",
       "\\item 'X13114.shade.23.s001'\n",
       "\\item 'X13114.shade.23.s002'\n",
       "\\item 'X13114.shade.23.s003'\n",
       "\\item 'X13114.shade.23.s004'\n",
       "\\item 'X13114.shade.23.s005'\n",
       "\\item 'X13114.shade.23.s006'\n",
       "\\item 'X13114.shade.23.s007'\n",
       "\\item 'X13114.shade.23.s008'\n",
       "\\item 'X13114.shade.23.s009'\n",
       "\\item 'X13114.shade.23.s010'\n",
       "\\end{enumerate*}\n"
      ],
      "text/markdown": [
       "1. 'X13114.control.soil.grass.near.BRF'\n",
       "2. 'X13114.control.soil.under.pine.tree.by.Skaggs'\n",
       "3. 'X13114.control.soil.under.rock.near.century.plant'\n",
       "4. 'X13114.myrold.59.s001'\n",
       "5. 'X13114.myrold.59.s002'\n",
       "6. 'X13114.myrold.59.s003'\n",
       "7. 'X13114.myrold.59.s004'\n",
       "8. 'X13114.myrold.59.s005'\n",
       "9. 'X13114.myrold.59.s007'\n",
       "10. 'X13114.myrold.59.s008'\n",
       "11. 'X13114.myrold.59.s009'\n",
       "12. 'X13114.myrold.59.s010'\n",
       "13. 'X13114.myrold.59.s011'\n",
       "14. 'X13114.myrold.59.s012'\n",
       "15. 'X13114.myrold.59.s013'\n",
       "16. 'X13114.myrold.59.s016'\n",
       "17. 'X13114.myrold.59.s018'\n",
       "18. 'X13114.myrold.59.s020'\n",
       "19. 'X13114.seedorf.71.s001'\n",
       "20. 'X13114.seedorf.71.s002'\n",
       "21. 'X13114.seedorf.71.s003'\n",
       "22. 'X13114.seedorf.71.s004'\n",
       "23. 'X13114.seedorf.71.s005'\n",
       "24. 'X13114.seedorf.71.s006'\n",
       "25. 'X13114.seedorf.71.s007'\n",
       "26. 'X13114.seedorf.71.s008'\n",
       "27. 'X13114.seedorf.71.s009'\n",
       "28. 'X13114.seedorf.71.s010'\n",
       "29. 'X13114.seedorf.71.s011'\n",
       "30. 'X13114.seedorf.71.s012'\n",
       "31. 'X13114.seedorf.71.s013'\n",
       "32. 'X13114.seedorf.71.s014'\n",
       "33. 'X13114.shade.23.s001'\n",
       "34. 'X13114.shade.23.s002'\n",
       "35. 'X13114.shade.23.s003'\n",
       "36. 'X13114.shade.23.s004'\n",
       "37. 'X13114.shade.23.s005'\n",
       "38. 'X13114.shade.23.s006'\n",
       "39. 'X13114.shade.23.s007'\n",
       "40. 'X13114.shade.23.s008'\n",
       "41. 'X13114.shade.23.s009'\n",
       "42. 'X13114.shade.23.s010'\n",
       "\n",
       "\n"
      ],
      "text/plain": [
       " [1] \"X13114.control.soil.grass.near.BRF\"               \n",
       " [2] \"X13114.control.soil.under.pine.tree.by.Skaggs\"    \n",
       " [3] \"X13114.control.soil.under.rock.near.century.plant\"\n",
       " [4] \"X13114.myrold.59.s001\"                            \n",
       " [5] \"X13114.myrold.59.s002\"                            \n",
       " [6] \"X13114.myrold.59.s003\"                            \n",
       " [7] \"X13114.myrold.59.s004\"                            \n",
       " [8] \"X13114.myrold.59.s005\"                            \n",
       " [9] \"X13114.myrold.59.s007\"                            \n",
       "[10] \"X13114.myrold.59.s008\"                            \n",
       "[11] \"X13114.myrold.59.s009\"                            \n",
       "[12] \"X13114.myrold.59.s010\"                            \n",
       "[13] \"X13114.myrold.59.s011\"                            \n",
       "[14] \"X13114.myrold.59.s012\"                            \n",
       "[15] \"X13114.myrold.59.s013\"                            \n",
       "[16] \"X13114.myrold.59.s016\"                            \n",
       "[17] \"X13114.myrold.59.s018\"                            \n",
       "[18] \"X13114.myrold.59.s020\"                            \n",
       "[19] \"X13114.seedorf.71.s001\"                           \n",
       "[20] \"X13114.seedorf.71.s002\"                           \n",
       "[21] \"X13114.seedorf.71.s003\"                           \n",
       "[22] \"X13114.seedorf.71.s004\"                           \n",
       "[23] \"X13114.seedorf.71.s005\"                           \n",
       "[24] \"X13114.seedorf.71.s006\"                           \n",
       "[25] \"X13114.seedorf.71.s007\"                           \n",
       "[26] \"X13114.seedorf.71.s008\"                           \n",
       "[27] \"X13114.seedorf.71.s009\"                           \n",
       "[28] \"X13114.seedorf.71.s010\"                           \n",
       "[29] \"X13114.seedorf.71.s011\"                           \n",
       "[30] \"X13114.seedorf.71.s012\"                           \n",
       "[31] \"X13114.seedorf.71.s013\"                           \n",
       "[32] \"X13114.seedorf.71.s014\"                           \n",
       "[33] \"X13114.shade.23.s001\"                             \n",
       "[34] \"X13114.shade.23.s002\"                             \n",
       "[35] \"X13114.shade.23.s003\"                             \n",
       "[36] \"X13114.shade.23.s004\"                             \n",
       "[37] \"X13114.shade.23.s005\"                             \n",
       "[38] \"X13114.shade.23.s006\"                             \n",
       "[39] \"X13114.shade.23.s007\"                             \n",
       "[40] \"X13114.shade.23.s008\"                             \n",
       "[41] \"X13114.shade.23.s009\"                             \n",
       "[42] \"X13114.shade.23.s010\"                             "
      ]
     },
     "metadata": {},
     "output_type": "display_data"
    }
   ],
   "source": [
    "# Filter only Soil samples (empo_4 == \"Soil (non-saline)\") and biomes with anthropogenic influence (env_biome).\n",
    "anthropogenic_biomes <- c(\"rangeland biome\", \"anthropogenic terrestrial biome\", \"urban biome\", \"cropland biome\")\n",
    "\n",
    "soil_metadata <- sample_metadata %>%\n",
    "  filter(empo_4 == \"Soil (non-saline)\") %>%\n",
    "  filter(env_biome %in% anthropogenic_biomes)\n",
    "\n",
    "head(soil_metadata)\n",
    "\n",
    "# Number of unique variables (columns)\n",
    "length(unique(soil_metadata))\n",
    "\n",
    "# Number of unique samples (rows)\n",
    "length(unique(soil_metadata$sample_name))\n",
    "\n",
    "write.csv(soil_metadata, \"soil_anthro_metadata.csv\", row.names = FALSE, quote = FALSE)\n",
    "\n",
    "# Get the names only of the samples that we choose\n",
    "soil_sample_names <- soil_metadata$sample_name\n",
    "\n",
    "soil_sample_names <- make.names(soil_sample_names)\n",
    "\n",
    "soil_sample_names"
   ]
  },
  {
   "cell_type": "code",
   "execution_count": 9,
   "id": "6e6d0152",
   "metadata": {},
   "outputs": [
    {
     "data": {
      "text/html": [
       "<style>\n",
       ".list-inline {list-style: none; margin:0; padding: 0}\n",
       ".list-inline>li {display: inline-block}\n",
       ".list-inline>li:not(:last-child)::after {content: \"\\00b7\"; padding: 0 .5ex}\n",
       "</style>\n",
       "<ol class=list-inline><li>'147153_otu_table.biom'</li><li>'155017_otu_table.biom'</li><li>'155018_otu_table.biom'</li><li>'155021_otu_table.biom'</li><li>'155022_otu_table.biom'</li><li>'155023_otu_table.biom'</li><li>'155024_otu_table.biom'</li></ol>\n"
      ],
      "text/latex": [
       "\\begin{enumerate*}\n",
       "\\item '147153\\_otu\\_table.biom'\n",
       "\\item '155017\\_otu\\_table.biom'\n",
       "\\item '155018\\_otu\\_table.biom'\n",
       "\\item '155021\\_otu\\_table.biom'\n",
       "\\item '155022\\_otu\\_table.biom'\n",
       "\\item '155023\\_otu\\_table.biom'\n",
       "\\item '155024\\_otu\\_table.biom'\n",
       "\\end{enumerate*}\n"
      ],
      "text/markdown": [
       "1. '147153_otu_table.biom'\n",
       "2. '155017_otu_table.biom'\n",
       "3. '155018_otu_table.biom'\n",
       "4. '155021_otu_table.biom'\n",
       "5. '155022_otu_table.biom'\n",
       "6. '155023_otu_table.biom'\n",
       "7. '155024_otu_table.biom'\n",
       "\n",
       "\n"
      ],
      "text/plain": [
       "[1] \"147153_otu_table.biom\" \"155017_otu_table.biom\" \"155018_otu_table.biom\"\n",
       "[4] \"155021_otu_table.biom\" \"155022_otu_table.biom\" \"155023_otu_table.biom\"\n",
       "[7] \"155024_otu_table.biom\""
      ]
     },
     "metadata": {},
     "output_type": "display_data"
    },
    {
     "name": "stdout",
     "output_type": "stream",
     "text": [
      "[1] \"147153_otu_table.biom\"\n",
      "[1] \"./biom_files/150/147153_otu_table.biom\"\n",
      "[1] \"155017_otu_table.biom\"\n",
      "[1] \"./biom_files/150/155017_otu_table.biom\"\n",
      "[1] \"155018_otu_table.biom\"\n",
      "[1] \"./biom_files/150/155018_otu_table.biom\"\n",
      "[1] \"155021_otu_table.biom\"\n",
      "[1] \"./biom_files/150/155021_otu_table.biom\"\n",
      "[1] \"155022_otu_table.biom\"\n",
      "[1] \"./biom_files/150/155022_otu_table.biom\"\n",
      "[1] \"155023_otu_table.biom\"\n",
      "[1] \"./biom_files/150/155023_otu_table.biom\"\n",
      "[1] \"155024_otu_table.biom\"\n",
      "[1] \"./biom_files/150/155024_otu_table.biom\"\n"
     ]
    },
    {
     "data": {
      "text/plain": [
       "phyloseq-class experiment-level object\n",
       "otu_table()   OTU Table:         [ 44611 taxa and 945 samples ]\n",
       "tax_table()   Taxonomy Table:    [ 44611 taxa by 7 taxonomic ranks ]"
      ]
     },
     "metadata": {},
     "output_type": "display_data"
    }
   ],
   "source": [
    "# get list of biom files\n",
    "biom_files <- list.files(\"./biom_files/150\")\n",
    "\n",
    "biom_files\n",
    "\n",
    "# Import all biom files in directory.\n",
    "for (i in seq(from = 1, to = length(biom_files), by = 1)) {\n",
    "  print(biom_files[i])\n",
    "  x <- biom_files[i]\n",
    "  biom_path <- paste(\"./biom_files/150\", x, sep = \"/\")\n",
    "  print(biom_path)\n",
    "  eval(call(\"<-\", as.name(x), phyloseq::import_biom(biom_path, parseFunction=parse_taxonomy_greengenes)))\n",
    "}\n",
    "\n",
    "# Merge all biom files into a single one.\n",
    "biom_merged <- do.call(merge_phyloseq, mget(biom_files))\n",
    "\n",
    "biom_merged"
   ]
  },
  {
   "cell_type": "code",
   "execution_count": 15,
   "id": "8721faac",
   "metadata": {},
   "outputs": [
    {
     "data": {
      "text/html": [
       "<table class=\"dataframe\">\n",
       "<caption>A data.frame: 6 × 41</caption>\n",
       "<thead>\n",
       "\t<tr><th></th><th scope=col>X13114.control.soil.grass.near.BRF</th><th scope=col>X13114.control.soil.under.pine.tree.by.Skaggs</th><th scope=col>X13114.control.soil.under.rock.near.century.plant</th><th scope=col>X13114.myrold.59.s001</th><th scope=col>X13114.myrold.59.s002</th><th scope=col>X13114.myrold.59.s003</th><th scope=col>X13114.myrold.59.s004</th><th scope=col>X13114.myrold.59.s005</th><th scope=col>X13114.myrold.59.s007</th><th scope=col>X13114.myrold.59.s008</th><th scope=col>⋯</th><th scope=col>X13114.shade.23.s001</th><th scope=col>X13114.shade.23.s002</th><th scope=col>X13114.shade.23.s003</th><th scope=col>X13114.shade.23.s004</th><th scope=col>X13114.shade.23.s005</th><th scope=col>X13114.shade.23.s006</th><th scope=col>X13114.shade.23.s007</th><th scope=col>X13114.shade.23.s008</th><th scope=col>X13114.shade.23.s009</th><th scope=col>X13114.shade.23.s010</th></tr>\n",
       "\t<tr><th></th><th scope=col>&lt;dbl&gt;</th><th scope=col>&lt;dbl&gt;</th><th scope=col>&lt;dbl&gt;</th><th scope=col>&lt;dbl&gt;</th><th scope=col>&lt;dbl&gt;</th><th scope=col>&lt;dbl&gt;</th><th scope=col>&lt;dbl&gt;</th><th scope=col>&lt;dbl&gt;</th><th scope=col>&lt;dbl&gt;</th><th scope=col>&lt;dbl&gt;</th><th scope=col>⋯</th><th scope=col>&lt;dbl&gt;</th><th scope=col>&lt;dbl&gt;</th><th scope=col>&lt;dbl&gt;</th><th scope=col>&lt;dbl&gt;</th><th scope=col>&lt;dbl&gt;</th><th scope=col>&lt;dbl&gt;</th><th scope=col>&lt;dbl&gt;</th><th scope=col>&lt;dbl&gt;</th><th scope=col>&lt;dbl&gt;</th><th scope=col>&lt;dbl&gt;</th></tr>\n",
       "</thead>\n",
       "<tbody>\n",
       "\t<tr><th scope=row>Lactobacillus</th><td>0</td><td>0</td><td>0</td><td>0</td><td> 1</td><td>0</td><td>0</td><td>3</td><td>0</td><td>1</td><td>⋯</td><td> 1</td><td>0</td><td>2</td><td>1</td><td>2</td><td>3</td><td>2</td><td> 2</td><td>0</td><td>0</td></tr>\n",
       "\t<tr><th scope=row>Clostridium_4</th><td>0</td><td>1</td><td>1</td><td>0</td><td>15</td><td>0</td><td>0</td><td>1</td><td>0</td><td>0</td><td>⋯</td><td> 1</td><td>0</td><td>3</td><td>0</td><td>1</td><td>0</td><td>0</td><td>20</td><td>0</td><td>3</td></tr>\n",
       "\t<tr><th scope=row>Oscillospira</th><td>0</td><td>0</td><td>0</td><td>0</td><td> 0</td><td>0</td><td>0</td><td>2</td><td>0</td><td>2</td><td>⋯</td><td> 8</td><td>0</td><td>1</td><td>1</td><td>2</td><td>1</td><td>5</td><td> 0</td><td>0</td><td>1</td></tr>\n",
       "\t<tr><th scope=row>Ruminococcus</th><td>0</td><td>0</td><td>0</td><td>0</td><td> 1</td><td>0</td><td>0</td><td>0</td><td>0</td><td>0</td><td>⋯</td><td> 2</td><td>0</td><td>1</td><td>2</td><td>1</td><td>1</td><td>1</td><td> 2</td><td>0</td><td>0</td></tr>\n",
       "\t<tr><th scope=row>Candidatus Portiera</th><td>0</td><td>0</td><td>0</td><td>0</td><td> 0</td><td>0</td><td>0</td><td>0</td><td>0</td><td>0</td><td>⋯</td><td> 0</td><td>0</td><td>0</td><td>0</td><td>0</td><td>0</td><td>0</td><td> 0</td><td>0</td><td>0</td></tr>\n",
       "\t<tr><th scope=row>Acinetobacter</th><td>0</td><td>0</td><td>0</td><td>0</td><td> 0</td><td>0</td><td>0</td><td>0</td><td>0</td><td>0</td><td>⋯</td><td>34</td><td>0</td><td>0</td><td>0</td><td>0</td><td>0</td><td>0</td><td> 0</td><td>0</td><td>0</td></tr>\n",
       "</tbody>\n",
       "</table>\n"
      ],
      "text/latex": [
       "A data.frame: 6 × 41\n",
       "\\begin{tabular}{r|lllllllllllllllllllll}\n",
       "  & X13114.control.soil.grass.near.BRF & X13114.control.soil.under.pine.tree.by.Skaggs & X13114.control.soil.under.rock.near.century.plant & X13114.myrold.59.s001 & X13114.myrold.59.s002 & X13114.myrold.59.s003 & X13114.myrold.59.s004 & X13114.myrold.59.s005 & X13114.myrold.59.s007 & X13114.myrold.59.s008 & ⋯ & X13114.shade.23.s001 & X13114.shade.23.s002 & X13114.shade.23.s003 & X13114.shade.23.s004 & X13114.shade.23.s005 & X13114.shade.23.s006 & X13114.shade.23.s007 & X13114.shade.23.s008 & X13114.shade.23.s009 & X13114.shade.23.s010\\\\\n",
       "  & <dbl> & <dbl> & <dbl> & <dbl> & <dbl> & <dbl> & <dbl> & <dbl> & <dbl> & <dbl> & ⋯ & <dbl> & <dbl> & <dbl> & <dbl> & <dbl> & <dbl> & <dbl> & <dbl> & <dbl> & <dbl>\\\\\n",
       "\\hline\n",
       "\tLactobacillus & 0 & 0 & 0 & 0 &  1 & 0 & 0 & 3 & 0 & 1 & ⋯ &  1 & 0 & 2 & 1 & 2 & 3 & 2 &  2 & 0 & 0\\\\\n",
       "\tClostridium\\_4 & 0 & 1 & 1 & 0 & 15 & 0 & 0 & 1 & 0 & 0 & ⋯ &  1 & 0 & 3 & 0 & 1 & 0 & 0 & 20 & 0 & 3\\\\\n",
       "\tOscillospira & 0 & 0 & 0 & 0 &  0 & 0 & 0 & 2 & 0 & 2 & ⋯ &  8 & 0 & 1 & 1 & 2 & 1 & 5 &  0 & 0 & 1\\\\\n",
       "\tRuminococcus & 0 & 0 & 0 & 0 &  1 & 0 & 0 & 0 & 0 & 0 & ⋯ &  2 & 0 & 1 & 2 & 1 & 1 & 1 &  2 & 0 & 0\\\\\n",
       "\tCandidatus Portiera & 0 & 0 & 0 & 0 &  0 & 0 & 0 & 0 & 0 & 0 & ⋯ &  0 & 0 & 0 & 0 & 0 & 0 & 0 &  0 & 0 & 0\\\\\n",
       "\tAcinetobacter & 0 & 0 & 0 & 0 &  0 & 0 & 0 & 0 & 0 & 0 & ⋯ & 34 & 0 & 0 & 0 & 0 & 0 & 0 &  0 & 0 & 0\\\\\n",
       "\\end{tabular}\n"
      ],
      "text/markdown": [
       "\n",
       "A data.frame: 6 × 41\n",
       "\n",
       "| <!--/--> | X13114.control.soil.grass.near.BRF &lt;dbl&gt; | X13114.control.soil.under.pine.tree.by.Skaggs &lt;dbl&gt; | X13114.control.soil.under.rock.near.century.plant &lt;dbl&gt; | X13114.myrold.59.s001 &lt;dbl&gt; | X13114.myrold.59.s002 &lt;dbl&gt; | X13114.myrold.59.s003 &lt;dbl&gt; | X13114.myrold.59.s004 &lt;dbl&gt; | X13114.myrold.59.s005 &lt;dbl&gt; | X13114.myrold.59.s007 &lt;dbl&gt; | X13114.myrold.59.s008 &lt;dbl&gt; | ⋯ ⋯ | X13114.shade.23.s001 &lt;dbl&gt; | X13114.shade.23.s002 &lt;dbl&gt; | X13114.shade.23.s003 &lt;dbl&gt; | X13114.shade.23.s004 &lt;dbl&gt; | X13114.shade.23.s005 &lt;dbl&gt; | X13114.shade.23.s006 &lt;dbl&gt; | X13114.shade.23.s007 &lt;dbl&gt; | X13114.shade.23.s008 &lt;dbl&gt; | X13114.shade.23.s009 &lt;dbl&gt; | X13114.shade.23.s010 &lt;dbl&gt; |\n",
       "|---|---|---|---|---|---|---|---|---|---|---|---|---|---|---|---|---|---|---|---|---|---|\n",
       "| Lactobacillus | 0 | 0 | 0 | 0 |  1 | 0 | 0 | 3 | 0 | 1 | ⋯ |  1 | 0 | 2 | 1 | 2 | 3 | 2 |  2 | 0 | 0 |\n",
       "| Clostridium_4 | 0 | 1 | 1 | 0 | 15 | 0 | 0 | 1 | 0 | 0 | ⋯ |  1 | 0 | 3 | 0 | 1 | 0 | 0 | 20 | 0 | 3 |\n",
       "| Oscillospira | 0 | 0 | 0 | 0 |  0 | 0 | 0 | 2 | 0 | 2 | ⋯ |  8 | 0 | 1 | 1 | 2 | 1 | 5 |  0 | 0 | 1 |\n",
       "| Ruminococcus | 0 | 0 | 0 | 0 |  1 | 0 | 0 | 0 | 0 | 0 | ⋯ |  2 | 0 | 1 | 2 | 1 | 1 | 1 |  2 | 0 | 0 |\n",
       "| Candidatus Portiera | 0 | 0 | 0 | 0 |  0 | 0 | 0 | 0 | 0 | 0 | ⋯ |  0 | 0 | 0 | 0 | 0 | 0 | 0 |  0 | 0 | 0 |\n",
       "| Acinetobacter | 0 | 0 | 0 | 0 |  0 | 0 | 0 | 0 | 0 | 0 | ⋯ | 34 | 0 | 0 | 0 | 0 | 0 | 0 |  0 | 0 | 0 |\n",
       "\n"
      ],
      "text/plain": [
       "                    X13114.control.soil.grass.near.BRF\n",
       "Lactobacillus       0                                 \n",
       "Clostridium_4       0                                 \n",
       "Oscillospira        0                                 \n",
       "Ruminococcus        0                                 \n",
       "Candidatus Portiera 0                                 \n",
       "Acinetobacter       0                                 \n",
       "                    X13114.control.soil.under.pine.tree.by.Skaggs\n",
       "Lactobacillus       0                                            \n",
       "Clostridium_4       1                                            \n",
       "Oscillospira        0                                            \n",
       "Ruminococcus        0                                            \n",
       "Candidatus Portiera 0                                            \n",
       "Acinetobacter       0                                            \n",
       "                    X13114.control.soil.under.rock.near.century.plant\n",
       "Lactobacillus       0                                                \n",
       "Clostridium_4       1                                                \n",
       "Oscillospira        0                                                \n",
       "Ruminococcus        0                                                \n",
       "Candidatus Portiera 0                                                \n",
       "Acinetobacter       0                                                \n",
       "                    X13114.myrold.59.s001 X13114.myrold.59.s002\n",
       "Lactobacillus       0                      1                   \n",
       "Clostridium_4       0                     15                   \n",
       "Oscillospira        0                      0                   \n",
       "Ruminococcus        0                      1                   \n",
       "Candidatus Portiera 0                      0                   \n",
       "Acinetobacter       0                      0                   \n",
       "                    X13114.myrold.59.s003 X13114.myrold.59.s004\n",
       "Lactobacillus       0                     0                    \n",
       "Clostridium_4       0                     0                    \n",
       "Oscillospira        0                     0                    \n",
       "Ruminococcus        0                     0                    \n",
       "Candidatus Portiera 0                     0                    \n",
       "Acinetobacter       0                     0                    \n",
       "                    X13114.myrold.59.s005 X13114.myrold.59.s007\n",
       "Lactobacillus       3                     0                    \n",
       "Clostridium_4       1                     0                    \n",
       "Oscillospira        2                     0                    \n",
       "Ruminococcus        0                     0                    \n",
       "Candidatus Portiera 0                     0                    \n",
       "Acinetobacter       0                     0                    \n",
       "                    X13114.myrold.59.s008 ⋯ X13114.shade.23.s001\n",
       "Lactobacillus       1                     ⋯  1                  \n",
       "Clostridium_4       0                     ⋯  1                  \n",
       "Oscillospira        2                     ⋯  8                  \n",
       "Ruminococcus        0                     ⋯  2                  \n",
       "Candidatus Portiera 0                     ⋯  0                  \n",
       "Acinetobacter       0                     ⋯ 34                  \n",
       "                    X13114.shade.23.s002 X13114.shade.23.s003\n",
       "Lactobacillus       0                    2                   \n",
       "Clostridium_4       0                    3                   \n",
       "Oscillospira        0                    1                   \n",
       "Ruminococcus        0                    1                   \n",
       "Candidatus Portiera 0                    0                   \n",
       "Acinetobacter       0                    0                   \n",
       "                    X13114.shade.23.s004 X13114.shade.23.s005\n",
       "Lactobacillus       1                    2                   \n",
       "Clostridium_4       0                    1                   \n",
       "Oscillospira        1                    2                   \n",
       "Ruminococcus        2                    1                   \n",
       "Candidatus Portiera 0                    0                   \n",
       "Acinetobacter       0                    0                   \n",
       "                    X13114.shade.23.s006 X13114.shade.23.s007\n",
       "Lactobacillus       3                    2                   \n",
       "Clostridium_4       0                    0                   \n",
       "Oscillospira        1                    5                   \n",
       "Ruminococcus        1                    1                   \n",
       "Candidatus Portiera 0                    0                   \n",
       "Acinetobacter       0                    0                   \n",
       "                    X13114.shade.23.s008 X13114.shade.23.s009\n",
       "Lactobacillus        2                   0                   \n",
       "Clostridium_4       20                   0                   \n",
       "Oscillospira         0                   0                   \n",
       "Ruminococcus         2                   0                   \n",
       "Candidatus Portiera  0                   0                   \n",
       "Acinetobacter        0                   0                   \n",
       "                    X13114.shade.23.s010\n",
       "Lactobacillus       0                   \n",
       "Clostridium_4       3                   \n",
       "Oscillospira        1                   \n",
       "Ruminococcus        0                   \n",
       "Candidatus Portiera 0                   \n",
       "Acinetobacter       0                   "
      ]
     },
     "metadata": {},
     "output_type": "display_data"
    }
   ],
   "source": [
    "# Extract and clean ASV table.\n",
    "\n",
    "asv_table <- extract_table(biom_object = biom_merged, tax_rank = \"Genus\", col_names = get_colNames_per_rank(\"Genus\"))\n",
    "\n",
    "asv_table <- clean_table(feature_table = asv_table, order_table = TRUE)\n",
    "\n",
    "# Select data only from soil samples.\n",
    "soil_table <- asv_table %>% select(any_of(soil_sample_names))\n",
    "\n",
    "head(soil_table)\n",
    "\n",
    "# Select only the n more abundant ASVs.\n",
    "soil_table_ordered_50 <- soil_table[1:50,]"
   ]
  },
  {
   "cell_type": "code",
   "execution_count": 14,
   "id": "50d7b3bd",
   "metadata": {},
   "outputs": [
    {
     "data": {
      "image/png": "[encoded data removed]",
      "text/plain": [
       "plot without title"
      ]
     },
     "metadata": {
      "image/png": {
       "height": 420,
       "width": 420
      }
     },
     "output_type": "display_data"
    }
   ],
   "source": [
    "# Do barplot.\n",
    "barplot_from_feature_table(soil_table_ordered_50)"
   ]
  },
  {
   "cell_type": "code",
   "execution_count": 30,
   "id": "027a7f91",
   "metadata": {},
   "outputs": [
    {
     "data": {
      "text/html": [
       "<table class=\"dataframe\">\n",
       "<caption>A data.frame: 6 × 41</caption>\n",
       "<thead>\n",
       "\t<tr><th></th><th scope=col>X13114.control.soil.grass.near.BRF</th><th scope=col>X13114.control.soil.under.pine.tree.by.Skaggs</th><th scope=col>X13114.control.soil.under.rock.near.century.plant</th><th scope=col>X13114.myrold.59.s001</th><th scope=col>X13114.myrold.59.s002</th><th scope=col>X13114.myrold.59.s003</th><th scope=col>X13114.myrold.59.s004</th><th scope=col>X13114.myrold.59.s005</th><th scope=col>X13114.myrold.59.s007</th><th scope=col>X13114.myrold.59.s008</th><th scope=col>⋯</th><th scope=col>X13114.shade.23.s001</th><th scope=col>X13114.shade.23.s002</th><th scope=col>X13114.shade.23.s003</th><th scope=col>X13114.shade.23.s004</th><th scope=col>X13114.shade.23.s005</th><th scope=col>X13114.shade.23.s006</th><th scope=col>X13114.shade.23.s007</th><th scope=col>X13114.shade.23.s008</th><th scope=col>X13114.shade.23.s009</th><th scope=col>X13114.shade.23.s010</th></tr>\n",
       "\t<tr><th></th><th scope=col>&lt;dbl&gt;</th><th scope=col>&lt;dbl&gt;</th><th scope=col>&lt;dbl&gt;</th><th scope=col>&lt;dbl&gt;</th><th scope=col>&lt;dbl&gt;</th><th scope=col>&lt;dbl&gt;</th><th scope=col>&lt;dbl&gt;</th><th scope=col>&lt;dbl&gt;</th><th scope=col>&lt;dbl&gt;</th><th scope=col>&lt;dbl&gt;</th><th scope=col>⋯</th><th scope=col>&lt;dbl&gt;</th><th scope=col>&lt;dbl&gt;</th><th scope=col>&lt;dbl&gt;</th><th scope=col>&lt;dbl&gt;</th><th scope=col>&lt;dbl&gt;</th><th scope=col>&lt;dbl&gt;</th><th scope=col>&lt;dbl&gt;</th><th scope=col>&lt;dbl&gt;</th><th scope=col>&lt;dbl&gt;</th><th scope=col>&lt;dbl&gt;</th></tr>\n",
       "</thead>\n",
       "<tbody>\n",
       "\t<tr><th scope=row>Lactobacillus</th><td>0</td><td>0</td><td>0</td><td>0</td><td> 1</td><td>0</td><td>0</td><td>3</td><td>0</td><td>1</td><td>⋯</td><td> 1</td><td>0</td><td>2</td><td>1</td><td>2</td><td>3</td><td>2</td><td> 2</td><td>0</td><td>0</td></tr>\n",
       "\t<tr><th scope=row>Clostridium_4</th><td>0</td><td>1</td><td>1</td><td>0</td><td>15</td><td>0</td><td>0</td><td>1</td><td>0</td><td>0</td><td>⋯</td><td> 1</td><td>0</td><td>3</td><td>0</td><td>1</td><td>0</td><td>0</td><td>20</td><td>0</td><td>3</td></tr>\n",
       "\t<tr><th scope=row>Oscillospira</th><td>0</td><td>0</td><td>0</td><td>0</td><td> 0</td><td>0</td><td>0</td><td>2</td><td>0</td><td>2</td><td>⋯</td><td> 8</td><td>0</td><td>1</td><td>1</td><td>2</td><td>1</td><td>5</td><td> 0</td><td>0</td><td>1</td></tr>\n",
       "\t<tr><th scope=row>Ruminococcus</th><td>0</td><td>0</td><td>0</td><td>0</td><td> 1</td><td>0</td><td>0</td><td>0</td><td>0</td><td>0</td><td>⋯</td><td> 2</td><td>0</td><td>1</td><td>2</td><td>1</td><td>1</td><td>1</td><td> 2</td><td>0</td><td>0</td></tr>\n",
       "\t<tr><th scope=row>Candidatus Portiera</th><td>0</td><td>0</td><td>0</td><td>0</td><td> 0</td><td>0</td><td>0</td><td>0</td><td>0</td><td>0</td><td>⋯</td><td> 0</td><td>0</td><td>0</td><td>0</td><td>0</td><td>0</td><td>0</td><td> 0</td><td>0</td><td>0</td></tr>\n",
       "\t<tr><th scope=row>Acinetobacter</th><td>0</td><td>0</td><td>0</td><td>0</td><td> 0</td><td>0</td><td>0</td><td>0</td><td>0</td><td>0</td><td>⋯</td><td>34</td><td>0</td><td>0</td><td>0</td><td>0</td><td>0</td><td>0</td><td> 0</td><td>0</td><td>0</td></tr>\n",
       "</tbody>\n",
       "</table>\n"
      ],
      "text/latex": [
       "A data.frame: 6 × 41\n",
       "\\begin{tabular}{r|lllllllllllllllllllll}\n",
       "  & X13114.control.soil.grass.near.BRF & X13114.control.soil.under.pine.tree.by.Skaggs & X13114.control.soil.under.rock.near.century.plant & X13114.myrold.59.s001 & X13114.myrold.59.s002 & X13114.myrold.59.s003 & X13114.myrold.59.s004 & X13114.myrold.59.s005 & X13114.myrold.59.s007 & X13114.myrold.59.s008 & ⋯ & X13114.shade.23.s001 & X13114.shade.23.s002 & X13114.shade.23.s003 & X13114.shade.23.s004 & X13114.shade.23.s005 & X13114.shade.23.s006 & X13114.shade.23.s007 & X13114.shade.23.s008 & X13114.shade.23.s009 & X13114.shade.23.s010\\\\\n",
       "  & <dbl> & <dbl> & <dbl> & <dbl> & <dbl> & <dbl> & <dbl> & <dbl> & <dbl> & <dbl> & ⋯ & <dbl> & <dbl> & <dbl> & <dbl> & <dbl> & <dbl> & <dbl> & <dbl> & <dbl> & <dbl>\\\\\n",
       "\\hline\n",
       "\tLactobacillus & 0 & 0 & 0 & 0 &  1 & 0 & 0 & 3 & 0 & 1 & ⋯ &  1 & 0 & 2 & 1 & 2 & 3 & 2 &  2 & 0 & 0\\\\\n",
       "\tClostridium\\_4 & 0 & 1 & 1 & 0 & 15 & 0 & 0 & 1 & 0 & 0 & ⋯ &  1 & 0 & 3 & 0 & 1 & 0 & 0 & 20 & 0 & 3\\\\\n",
       "\tOscillospira & 0 & 0 & 0 & 0 &  0 & 0 & 0 & 2 & 0 & 2 & ⋯ &  8 & 0 & 1 & 1 & 2 & 1 & 5 &  0 & 0 & 1\\\\\n",
       "\tRuminococcus & 0 & 0 & 0 & 0 &  1 & 0 & 0 & 0 & 0 & 0 & ⋯ &  2 & 0 & 1 & 2 & 1 & 1 & 1 &  2 & 0 & 0\\\\\n",
       "\tCandidatus Portiera & 0 & 0 & 0 & 0 &  0 & 0 & 0 & 0 & 0 & 0 & ⋯ &  0 & 0 & 0 & 0 & 0 & 0 & 0 &  0 & 0 & 0\\\\\n",
       "\tAcinetobacter & 0 & 0 & 0 & 0 &  0 & 0 & 0 & 0 & 0 & 0 & ⋯ & 34 & 0 & 0 & 0 & 0 & 0 & 0 &  0 & 0 & 0\\\\\n",
       "\\end{tabular}\n"
      ],
      "text/markdown": [
       "\n",
       "A data.frame: 6 × 41\n",
       "\n",
       "| <!--/--> | X13114.control.soil.grass.near.BRF &lt;dbl&gt; | X13114.control.soil.under.pine.tree.by.Skaggs &lt;dbl&gt; | X13114.control.soil.under.rock.near.century.plant &lt;dbl&gt; | X13114.myrold.59.s001 &lt;dbl&gt; | X13114.myrold.59.s002 &lt;dbl&gt; | X13114.myrold.59.s003 &lt;dbl&gt; | X13114.myrold.59.s004 &lt;dbl&gt; | X13114.myrold.59.s005 &lt;dbl&gt; | X13114.myrold.59.s007 &lt;dbl&gt; | X13114.myrold.59.s008 &lt;dbl&gt; | ⋯ ⋯ | X13114.shade.23.s001 &lt;dbl&gt; | X13114.shade.23.s002 &lt;dbl&gt; | X13114.shade.23.s003 &lt;dbl&gt; | X13114.shade.23.s004 &lt;dbl&gt; | X13114.shade.23.s005 &lt;dbl&gt; | X13114.shade.23.s006 &lt;dbl&gt; | X13114.shade.23.s007 &lt;dbl&gt; | X13114.shade.23.s008 &lt;dbl&gt; | X13114.shade.23.s009 &lt;dbl&gt; | X13114.shade.23.s010 &lt;dbl&gt; |\n",
       "|---|---|---|---|---|---|---|---|---|---|---|---|---|---|---|---|---|---|---|---|---|---|\n",
       "| Lactobacillus | 0 | 0 | 0 | 0 |  1 | 0 | 0 | 3 | 0 | 1 | ⋯ |  1 | 0 | 2 | 1 | 2 | 3 | 2 |  2 | 0 | 0 |\n",
       "| Clostridium_4 | 0 | 1 | 1 | 0 | 15 | 0 | 0 | 1 | 0 | 0 | ⋯ |  1 | 0 | 3 | 0 | 1 | 0 | 0 | 20 | 0 | 3 |\n",
       "| Oscillospira | 0 | 0 | 0 | 0 |  0 | 0 | 0 | 2 | 0 | 2 | ⋯ |  8 | 0 | 1 | 1 | 2 | 1 | 5 |  0 | 0 | 1 |\n",
       "| Ruminococcus | 0 | 0 | 0 | 0 |  1 | 0 | 0 | 0 | 0 | 0 | ⋯ |  2 | 0 | 1 | 2 | 1 | 1 | 1 |  2 | 0 | 0 |\n",
       "| Candidatus Portiera | 0 | 0 | 0 | 0 |  0 | 0 | 0 | 0 | 0 | 0 | ⋯ |  0 | 0 | 0 | 0 | 0 | 0 | 0 |  0 | 0 | 0 |\n",
       "| Acinetobacter | 0 | 0 | 0 | 0 |  0 | 0 | 0 | 0 | 0 | 0 | ⋯ | 34 | 0 | 0 | 0 | 0 | 0 | 0 |  0 | 0 | 0 |\n",
       "\n"
      ],
      "text/plain": [
       "                    X13114.control.soil.grass.near.BRF\n",
       "Lactobacillus       0                                 \n",
       "Clostridium_4       0                                 \n",
       "Oscillospira        0                                 \n",
       "Ruminococcus        0                                 \n",
       "Candidatus Portiera 0                                 \n",
       "Acinetobacter       0                                 \n",
       "                    X13114.control.soil.under.pine.tree.by.Skaggs\n",
       "Lactobacillus       0                                            \n",
       "Clostridium_4       1                                            \n",
       "Oscillospira        0                                            \n",
       "Ruminococcus        0                                            \n",
       "Candidatus Portiera 0                                            \n",
       "Acinetobacter       0                                            \n",
       "                    X13114.control.soil.under.rock.near.century.plant\n",
       "Lactobacillus       0                                                \n",
       "Clostridium_4       1                                                \n",
       "Oscillospira        0                                                \n",
       "Ruminococcus        0                                                \n",
       "Candidatus Portiera 0                                                \n",
       "Acinetobacter       0                                                \n",
       "                    X13114.myrold.59.s001 X13114.myrold.59.s002\n",
       "Lactobacillus       0                      1                   \n",
       "Clostridium_4       0                     15                   \n",
       "Oscillospira        0                      0                   \n",
       "Ruminococcus        0                      1                   \n",
       "Candidatus Portiera 0                      0                   \n",
       "Acinetobacter       0                      0                   \n",
       "                    X13114.myrold.59.s003 X13114.myrold.59.s004\n",
       "Lactobacillus       0                     0                    \n",
       "Clostridium_4       0                     0                    \n",
       "Oscillospira        0                     0                    \n",
       "Ruminococcus        0                     0                    \n",
       "Candidatus Portiera 0                     0                    \n",
       "Acinetobacter       0                     0                    \n",
       "                    X13114.myrold.59.s005 X13114.myrold.59.s007\n",
       "Lactobacillus       3                     0                    \n",
       "Clostridium_4       1                     0                    \n",
       "Oscillospira        2                     0                    \n",
       "Ruminococcus        0                     0                    \n",
       "Candidatus Portiera 0                     0                    \n",
       "Acinetobacter       0                     0                    \n",
       "                    X13114.myrold.59.s008 ⋯ X13114.shade.23.s001\n",
       "Lactobacillus       1                     ⋯  1                  \n",
       "Clostridium_4       0                     ⋯  1                  \n",
       "Oscillospira        2                     ⋯  8                  \n",
       "Ruminococcus        0                     ⋯  2                  \n",
       "Candidatus Portiera 0                     ⋯  0                  \n",
       "Acinetobacter       0                     ⋯ 34                  \n",
       "                    X13114.shade.23.s002 X13114.shade.23.s003\n",
       "Lactobacillus       0                    2                   \n",
       "Clostridium_4       0                    3                   \n",
       "Oscillospira        0                    1                   \n",
       "Ruminococcus        0                    1                   \n",
       "Candidatus Portiera 0                    0                   \n",
       "Acinetobacter       0                    0                   \n",
       "                    X13114.shade.23.s004 X13114.shade.23.s005\n",
       "Lactobacillus       1                    2                   \n",
       "Clostridium_4       0                    1                   \n",
       "Oscillospira        1                    2                   \n",
       "Ruminococcus        2                    1                   \n",
       "Candidatus Portiera 0                    0                   \n",
       "Acinetobacter       0                    0                   \n",
       "                    X13114.shade.23.s006 X13114.shade.23.s007\n",
       "Lactobacillus       3                    2                   \n",
       "Clostridium_4       0                    0                   \n",
       "Oscillospira        1                    5                   \n",
       "Ruminococcus        1                    1                   \n",
       "Candidatus Portiera 0                    0                   \n",
       "Acinetobacter       0                    0                   \n",
       "                    X13114.shade.23.s008 X13114.shade.23.s009\n",
       "Lactobacillus        2                   0                   \n",
       "Clostridium_4       20                   0                   \n",
       "Oscillospira         0                   0                   \n",
       "Ruminococcus         2                   0                   \n",
       "Candidatus Portiera  0                   0                   \n",
       "Acinetobacter        0                   0                   \n",
       "                    X13114.shade.23.s010\n",
       "Lactobacillus       0                   \n",
       "Clostridium_4       3                   \n",
       "Oscillospira        1                   \n",
       "Ruminococcus        0                   \n",
       "Candidatus Portiera 0                   \n",
       "Acinetobacter       0                   "
      ]
     },
     "metadata": {},
     "output_type": "display_data"
    }
   ],
   "source": [
    "head(soil_table_ordered_50)"
   ]
  },
  {
   "cell_type": "code",
   "execution_count": 28,
   "id": "de74a225",
   "metadata": {},
   "outputs": [],
   "source": [
    "write.table(soil_table_ordered_50, \"soil_asv_table.csv\", row.names = TRUE, quote = FALSE, col.names = FALSE, sep = \",\")"
   ]
  }
 ],
 "metadata": {
  "kernelspec": {
   "display_name": "R 4.2.2",
   "language": "R",
   "name": "ir35"
  },
  "language_info": {
   "codemirror_mode": "r",
   "file_extension": ".r",
   "mimetype": "text/x-r-source",
   "name": "R",
   "pygments_lexer": "r",
   "version": "4.2.2"
  }
 },
 "nbformat": 4,
 "nbformat_minor": 5
}
